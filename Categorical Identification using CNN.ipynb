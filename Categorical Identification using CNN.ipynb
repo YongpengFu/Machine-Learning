{
 "cells": [
  {
   "cell_type": "markdown",
   "metadata": {},
   "source": [
    "Download the Dataset\n",
    "Scikit-Learn Library offers a way to download the CIFAR-100 dataset using these lines of code:\n",
    "\n",
    "from keras.datasets import mnist\n",
    "(x_train, y_train), (x_test, y_test) = mnist.load_data()\n"
   ]
  },
  {
   "cell_type": "code",
   "execution_count": 14,
   "metadata": {},
   "outputs": [
    {
     "name": "stdout",
     "output_type": "stream",
     "text": [
      "Downloading data from https://www.cs.toronto.edu/~kriz/cifar-100-python.tar.gz\n",
      "169009152/169001437 [==============================] - 34s 0us/step\n"
     ]
    }
   ],
   "source": [
    "from tensorflow.keras.datasets import cifar100\n",
    "(x_train, y_train), (x_test, y_test) = cifar100.load_data(label_mode='fine')"
   ]
  },
  {
   "cell_type": "markdown",
   "metadata": {},
   "source": [
    "Re-shaping the images\n",
    "Prepare your dataset.\n",
    "Write these two lines of code to somewhat normalize your dataset:\n",
    "\n",
    "x_train = x_train.astype('float32')/255; and\n",
    "x_test = x_test.astype('float32')/255."
   ]
  },
  {
   "cell_type": "code",
   "execution_count": 15,
   "metadata": {},
   "outputs": [],
   "source": [
    "x_train = x_train.astype('float32')/255\n",
    "x_test = x_test.astype('float32')/255"
   ]
  },
  {
   "cell_type": "markdown",
   "metadata": {},
   "source": [
    "Encode the Target Labels\n",
    "Use these lines of code to encode your labels for training:\n",
    "from keras.utils import to_categorical;"
   ]
  },
  {
   "cell_type": "code",
   "execution_count": 16,
   "metadata": {},
   "outputs": [],
   "source": [
    "from tensorflow.keras.utils import to_categorical\n",
    "y_train = to_categorical(y_train)\n",
    "y_test = to_categorical(y_test)"
   ]
  },
  {
   "cell_type": "markdown",
   "metadata": {},
   "source": [
    "Build the CNN with the following layers:\n",
    "The input layer is a 2-D convolutional layer with the following parameters:\n",
    "32 units;\n",
    "convolution window size: 3 x 3;\n",
    "Activation function: relu; and\n",
    "Input shape: 32 x 32 x 3.\n",
    "A 2-D convolutional layer with the following parameters:\n",
    "32 units;\n",
    "Convolution window size: 3 x 3;\n",
    "Activation function: relu;\n",
    "A 2-D max pooling layer with a pool size of 2x2; and\n",
    "A dropout layer with 0.25 rate.\n",
    "Two 2-D convolutional layers, each with the following parameters:\n",
    "64 units;"
   ]
  },
  {
   "cell_type": "code",
   "execution_count": 22,
   "metadata": {},
   "outputs": [],
   "source": [
    "from tensorflow.keras.models import Sequential\n",
    "model = Sequential()\n",
    "from tensorflow.keras.layers import Conv2D\n",
    "model.add(Conv2D(32, (3, 3), input_shape=(32, 32, 3), activation='relu'))\n",
    "model.add(Conv2D(32, (3, 3), activation='relu'))\n",
    "from tensorflow.keras.layers import MaxPooling2D\n",
    "model.add(MaxPooling2D(pool_size=(2,2)))\n",
    "from tensorflow.keras.layers import Dropout\n",
    "model.add(Dropout(0.2))\n",
    "model.add(Conv2D(64, (3, 3), activation='relu'))\n",
    "model.add(MaxPooling2D(pool_size=(2,2)))\n",
    "model.add(Dropout(0.25))\n",
    "from tensorflow.keras.layers import Flatten\n",
    "model.add(Flatten())\n",
    "from tensorflow.keras.layers import Dense\n",
    "model.add(Dense(units=512, activation='relu'))\n",
    "model.add(Dropout(0.5))\n",
    "model.add(Dense(units=100, activation='softmax'))"
   ]
  },
  {
   "cell_type": "markdown",
   "metadata": {},
   "source": [
    "Choosing Hyper-parameters\n",
    "Build the Network using the following parameters:\n",
    "Optimizer: adam;\n",
    "Loss Function: categorical_crossentropy;\n",
    "Metrics: accuracy;\n",
    "Epochs: 100; and\n",
    "Batch size: 32."
   ]
  },
  {
   "cell_type": "code",
   "execution_count": 24,
   "metadata": {},
   "outputs": [],
   "source": [
    "model.compile(optimizer = 'adam', loss = 'categorical_crossentropy', metrics = ['accuracy'])\n",
    "model.fit(x_train, y_train, epochs=100, batch_size = 32)"
   ]
  },
  {
   "cell_type": "code",
   "execution_count": null,
   "metadata": {},
   "outputs": [],
   "source": [
    "loss, accuracy = model.evaluate(x_test, y_test)"
   ]
  }
 ],
 "metadata": {
  "kernelspec": {
   "display_name": "Python 3",
   "language": "python",
   "name": "python3"
  },
  "language_info": {
   "codemirror_mode": {
    "name": "ipython",
    "version": 3
   },
   "file_extension": ".py",
   "mimetype": "text/x-python",
   "name": "python",
   "nbconvert_exporter": "python",
   "pygments_lexer": "ipython3",
   "version": "3.8.3"
  }
 },
 "nbformat": 4,
 "nbformat_minor": 4
}
