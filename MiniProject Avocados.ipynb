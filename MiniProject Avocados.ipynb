{
 "cells": [
  {
   "cell_type": "code",
   "execution_count": 1,
   "metadata": {},
   "outputs": [],
   "source": [
    "import pandas as pd\n",
    "import numpy as np\n",
    "import sklearn as sk"
   ]
  },
  {
   "cell_type": "markdown",
   "metadata": {},
   "source": [
    "Download the Dataset\n",
    "Download the Dataset from the following link:\n",
    "https://www.kaggle.com/neuromusic/avocado-prices/"
   ]
  },
  {
   "cell_type": "code",
   "execution_count": 103,
   "metadata": {},
   "outputs": [],
   "source": [
    "avocado = pd.read_csv('avocado.csv')"
   ]
  },
  {
   "cell_type": "markdown",
   "metadata": {},
   "source": [
    "Reading the Dataset\n",
    "Read the dataset into a Pandas DataFrame!\n",
    "Does the dataset include any missing values? If so, drop them!\n",
    "Hint: Pandas can do that with one line of code!"
   ]
  },
  {
   "cell_type": "code",
   "execution_count": 11,
   "metadata": {},
   "outputs": [
    {
     "data": {
      "text/plain": [
       "(array([], dtype=int64), array([], dtype=int64))"
      ]
     },
     "execution_count": 11,
     "metadata": {},
     "output_type": "execute_result"
    }
   ],
   "source": [
    "np.where(pd.isnull(avocado)) #no null value is found"
   ]
  },
  {
   "cell_type": "markdown",
   "metadata": {},
   "source": [
    "Feature Extraction\n",
    "Exclude the region and date from the considered features.\n",
    "Preprocessing\n",
    "Perform any needed pre-processing on the chosen features including:\n",
    "Scaling;\n",
    "Encoding; and\n",
    "Dealing with Nan values.\n",
    "Hint:\n",
    "Use only the preprocessing steps for this mini-project."
   ]
  },
  {
   "cell_type": "code",
   "execution_count": 114,
   "metadata": {},
   "outputs": [],
   "source": [
    "from sklearn.preprocessing import OrdinalEncoder,StandardScaler\n",
    "y = avocado.AveragePrice.values\n",
    "#NOTE, you need to use avocado[['type']], rather than avocado['type']\n",
    "avocado[['type']] = OrdinalEncoder().fit_transform(avocado[['type']])\n",
    "selected_X = avocado.drop(['Date', 'AveragePrice', 'region'], axis = 1).values\n",
    "encoded_X = StandardScaler().fit_transform(selected_X)"
   ]
  },
  {
   "cell_type": "markdown",
   "metadata": {},
   "source": [
    "Splitting the Data\n",
    "Split your data as follows:\n",
    "80% training set\n",
    "10% Validation set\n",
    "10% Test set"
   ]
  },
  {
   "cell_type": "code",
   "execution_count": 117,
   "metadata": {},
   "outputs": [],
   "source": [
    "from sklearn.model_selection import train_test_split\n",
    "X_train, X_test, y_train, y_test = train_test_split(encoded_X, y, test_size=0.1, random_state=0)\n",
    "X_train, X_val, y_train, y_val = train_test_split(X_train, y_train, test_size=0.1, random_state=0)"
   ]
  },
  {
   "cell_type": "markdown",
   "metadata": {},
   "source": [
    "Training K-Nearest Neighbor (KNN) Regression\n",
    "Use a K-Nearest Neighbor (KNN) regressor model to train your data.\n",
    "Choose the best k for the K-Nearest Neighbor (KNN) algorithm by trying different values and validating performance on the validation set.\n",
    "Regression Metrics\n",
    "Print the R-squared score of your final K-Nearest Neighbor (KNN) regressor."
   ]
  },
  {
   "cell_type": "code",
   "execution_count": null,
   "metadata": {},
   "outputs": [],
   "source": [
    "from sklearn.neighbors import KNeighborsRegressor\n",
    "K =11\n",
    "model = KNeighborsRegressor(n_neighbors = K)\n",
    "model.fit(X_train, y_train)\n",
    "y_pred = model.predict(X_test)\n",
    "score = model.score(X_test, y_tes)"
   ]
  }
 ],
 "metadata": {
  "kernelspec": {
   "display_name": "Python 3",
   "language": "python",
   "name": "python3"
  },
  "language_info": {
   "codemirror_mode": {
    "name": "ipython",
    "version": 3
   },
   "file_extension": ".py",
   "mimetype": "text/x-python",
   "name": "python",
   "nbconvert_exporter": "python",
   "pygments_lexer": "ipython3",
   "version": "3.8.3"
  }
 },
 "nbformat": 4,
 "nbformat_minor": 4
}
