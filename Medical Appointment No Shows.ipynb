{
 "cells": [
  {
   "cell_type": "code",
   "execution_count": 1,
   "metadata": {},
   "outputs": [],
   "source": [
    "import pandas as pd\n",
    "import numpy as np"
   ]
  },
  {
   "cell_type": "markdown",
   "metadata": {},
   "source": [
    "Download the Dataset\n",
    "Download the Dataset from the following link:\n",
    "https://www.kaggle.com/joniarroba/noshowappointments"
   ]
  },
  {
   "cell_type": "code",
   "execution_count": 2,
   "metadata": {},
   "outputs": [],
   "source": [
    "Medical_Appointment_No_Shows = pd.read_csv(\"KaggleV2-May-2016.csv\")"
   ]
  },
  {
   "cell_type": "code",
   "execution_count": 5,
   "metadata": {},
   "outputs": [
    {
     "data": {
      "text/plain": [
       "(array([], dtype=int64), array([], dtype=int64))"
      ]
     },
     "execution_count": 5,
     "metadata": {},
     "output_type": "execute_result"
    }
   ],
   "source": [
    "#Reading the Dataset\n",
    "#Read the dataset into the Pandas DataFrame!\n",
    "#Does the dataset include any missing values? If so, drop them!\n",
    "np.where(pd.isnull(Medical_Appointment_No_Shows))"
   ]
  },
  {
   "cell_type": "markdown",
   "metadata": {},
   "source": [
    "Feature Extraction\n",
    "Extract the following features:\n",
    "Gender;\n",
    "Age;\n",
    "Scholarship;\n",
    "Hipertension;\n",
    "Diabetes;\n",
    "Alcoholism;\n",
    "Handcap; and\n",
    "SMS_received.\n",
    "Note: You may see that some datasets names are not written using proper spelling. It is related to dataset for example:\n",
    "Hipertension=Hypertension\n",
    "Handcap=Handicap"
   ]
  },
  {
   "cell_type": "code",
   "execution_count": 8,
   "metadata": {},
   "outputs": [
    {
     "data": {
      "text/plain": [
       "Index(['PatientId', 'AppointmentID', 'Gender', 'ScheduledDay',\n",
       "       'AppointmentDay', 'Age', 'Neighbourhood', 'Scholarship', 'Hipertension',\n",
       "       'Diabetes', 'Alcoholism', 'Handcap', 'SMS_received', 'No-show'],\n",
       "      dtype='object')"
      ]
     },
     "execution_count": 8,
     "metadata": {},
     "output_type": "execute_result"
    }
   ],
   "source": [
    "#show all the columns names\n",
    "Medical_Appointment_No_Shows.columns"
   ]
  },
  {
   "cell_type": "code",
   "execution_count": 26,
   "metadata": {},
   "outputs": [],
   "source": [
    "#extract all the required features\n",
    "selected_X = Medical_Appointment_No_Shows.loc[:, ['Gender','Age', 'Scholarship', 'Hipertension', 'Diabetes',\n",
    "                                    'Alcoholism', 'Handcap', 'SMS_received']].values"
   ]
  },
  {
   "cell_type": "code",
   "execution_count": 28,
   "metadata": {},
   "outputs": [
    {
     "data": {
      "text/plain": [
       "array([['F', 62, 0, ..., 0, 0, 0],\n",
       "       ['M', 56, 0, ..., 0, 0, 0],\n",
       "       ['F', 62, 0, ..., 0, 0, 0],\n",
       "       ...,\n",
       "       ['F', 21, 0, ..., 0, 0, 1],\n",
       "       ['F', 38, 0, ..., 0, 0, 1],\n",
       "       ['F', 54, 0, ..., 0, 0, 1]], dtype=object)"
      ]
     },
     "execution_count": 28,
     "metadata": {},
     "output_type": "execute_result"
    }
   ],
   "source": [
    "selected_X"
   ]
  },
  {
   "cell_type": "code",
   "execution_count": 19,
   "metadata": {},
   "outputs": [
    {
     "data": {
      "text/plain": [
       "array(['No', 'No', 'No', ..., 'No', 'No', 'No'], dtype=object)"
      ]
     },
     "execution_count": 19,
     "metadata": {},
     "output_type": "execute_result"
    }
   ],
   "source": [
    "y = Medical_Appointment_No_Shows.iloc[:,-1].values\n",
    "y"
   ]
  },
  {
   "cell_type": "markdown",
   "metadata": {},
   "source": [
    "Preprocessing\n",
    "Perform any needed pre-processing of the chosen features including:\n",
    "Scaling;\n",
    "Encoding; and\n",
    "Dealing with Nan values.\n",
    "Hint: Use only the preprocessing steps you believe are useful.\n",
    "\n",
    "I actually dont really think we need to scale or encoding the data for tree based learning.\n",
    "Decisions trees work based on increasing the homogeneity of the next level. Thus you won’t need to convert them to integers. You will however need to perform this conversion if you’re using a library like sklearn.\n",
    "\n",
    "One-Hot encoding should not be performed if the number of categories are high. This would result in a sparse data. Depending on the use case, you’ll need to do some exploratory data analysis to do some feature engineering like grouping categories or tactfully assigning appropriate integer values to match the relation of the variable with the output"
   ]
  },
  {
   "cell_type": "code",
   "execution_count": 33,
   "metadata": {},
   "outputs": [],
   "source": [
    "from sklearn.preprocessing import LabelEncoder, OrdinalEncoder\n",
    "encoded_X = OrdinalEncoder().fit_transform(selected_X)\n",
    "encoded_y = LabelEncoder().fit_transform(y)"
   ]
  },
  {
   "cell_type": "markdown",
   "metadata": {},
   "source": [
    "Splitting the Data\n",
    "Split your data as follows:\n",
    "80% training set\n",
    "10% Validation set\n",
    "10% test set"
   ]
  },
  {
   "cell_type": "code",
   "execution_count": 34,
   "metadata": {},
   "outputs": [],
   "source": [
    "from sklearn.model_selection import train_test_split\n",
    "X_train, X_test, y_train, y_test = train_test_split(encoded_X, encoded_y, test_size = 0.1, random_state = 0)\n",
    "X_train, X_val, y_train, y_val = train_test_split(X_train, y_train, test_size = 0.111, random_state = 0)"
   ]
  },
  {
   "cell_type": "markdown",
   "metadata": {},
   "source": [
    "Training Tree-Based Classifiers\n",
    "Use a decision-tree Classifier model to train your data.\n",
    "Choose the best criterion for the decision tree algorithm by trying different values and validating performance on the validation set.\n",
    "Note: Choosing the best criterion is an example of hyper-parameter tuning.\n",
    "Classification Metrics\n",
    "Print the accuracy score of your final classifier.\n",
    "Print the confusion matrix."
   ]
  },
  {
   "cell_type": "code",
   "execution_count": 36,
   "metadata": {},
   "outputs": [
    {
     "name": "stdout",
     "output_type": "stream",
     "text": [
      "0.8003257034289333\n",
      "[[8809   69]\n",
      " [2138   37]]\n"
     ]
    }
   ],
   "source": [
    "from sklearn.tree import DecisionTreeClassifier\n",
    "model = DecisionTreeClassifier(criterion = 'entropy')\n",
    "model.fit(X_train, y_train)\n",
    "y_pred = model.predict(X_test)\n",
    "score = model.score(X_test, y_test)\n",
    "\n",
    "from sklearn.metrics import confusion_matrix\n",
    "conf = confusion_matrix(y_test, y_pred)\n",
    "\n",
    "print(score)\n",
    "print(conf)"
   ]
  },
  {
   "cell_type": "markdown",
   "metadata": {},
   "source": [
    "Random Forest\n",
    "Repeat step 6 (splitting the dataset)\n",
    "Increase/decrease the number of estimators in Random Forest and comment on the difference of the classification metrics."
   ]
  },
  {
   "cell_type": "code",
   "execution_count": 45,
   "metadata": {},
   "outputs": [
    {
     "name": "stdout",
     "output_type": "stream",
     "text": [
      "0.7995114448566\n",
      "[[8809   69]\n",
      " [2138   37]]\n"
     ]
    }
   ],
   "source": [
    "from sklearn.ensemble import RandomForestClassifier\n",
    "model = RandomForestClassifier(n_estimators = 1000, criterion = 'gini')\n",
    "model.fit(X_train, y_train)\n",
    "y_pred_rain = model.predict(X_test)\n",
    "score = model.score(X_test, y_test)\n",
    "\n",
    "from sklearn.metrics import confusion_matrix\n",
    "conf = confusion_matrix(y_test, y_pred)\n",
    "\n",
    "print(score)\n",
    "print(conf)"
   ]
  },
  {
   "cell_type": "code",
   "execution_count": null,
   "metadata": {},
   "outputs": [],
   "source": []
  }
 ],
 "metadata": {
  "kernelspec": {
   "display_name": "Python 3",
   "language": "python",
   "name": "python3"
  },
  "language_info": {
   "codemirror_mode": {
    "name": "ipython",
    "version": 3
   },
   "file_extension": ".py",
   "mimetype": "text/x-python",
   "name": "python",
   "nbconvert_exporter": "python",
   "pygments_lexer": "ipython3",
   "version": "3.8.3"
  }
 },
 "nbformat": 4,
 "nbformat_minor": 4
}
