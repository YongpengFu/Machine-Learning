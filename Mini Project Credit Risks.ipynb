{
 "cells": [
  {
   "cell_type": "markdown",
   "metadata": {},
   "source": [
    "Download the Dataset\n",
    "Method 2\n",
    "Use Scikit-Learn library to directly download the dataset into your Python notebook.\n",
    "Check out https://scikit-learn.org/stable/modules/generated/sklearn.datasets.fetch_openml.html"
   ]
  },
  {
   "cell_type": "code",
   "execution_count": 1,
   "metadata": {},
   "outputs": [],
   "source": [
    "#Download the Dataset\n",
    "from sklearn.datasets import fetch_openml\n",
    "credit_g = fetch_openml(name='credit-g', version = 'active')"
   ]
  },
  {
   "cell_type": "code",
   "execution_count": 27,
   "metadata": {},
   "outputs": [],
   "source": [
    "#Reading the Dataset\n",
    "#convert a Scikit-learn dataset to a Pandas dataset?\n",
    "import pandas as pd\n",
    "import numpy as np\n",
    "credit_d = pd.DataFrame(data = np.c_[credit_g['data'], credit_g['target']], \n",
    "                        columns = credit_g['feature_names'] + ['target'])"
   ]
  },
  {
   "cell_type": "code",
   "execution_count": 56,
   "metadata": {},
   "outputs": [
    {
     "data": {
      "text/plain": [
       "0"
      ]
     },
     "execution_count": 56,
     "metadata": {},
     "output_type": "execute_result"
    }
   ],
   "source": [
    "#Does the dataset include any missing values? If so, drop them!\n",
    "#Find empty or NaN entry in Pandas Dataframe\n",
    "#np.where(pd.isnull(df)) returns the row and column indices where the value is NaN:\n",
    "np.where(pd.isnull(credit_d))\n",
    "#check if the returned is empty or not\n",
    "len(np.where(pd.isnull(credit_d))[0])"
   ]
  },
  {
   "cell_type": "markdown",
   "metadata": {},
   "source": [
    "Download the Dataset\n",
    "Method 1\n",
    "Download the Dataset from the following link:\n",
    "Download the dataset to your local computer in the project directory of your choice.\n",
    "https://www.openml.org/d/31"
   ]
  },
  {
   "cell_type": "code",
   "execution_count": 85,
   "metadata": {},
   "outputs": [],
   "source": [
    "import pandas as pd\n",
    "import numpy as np\n",
    "dataset_31_credit_g = pd.read_csv(\"~/Desktop/dataset_31_credit-g.csv\")"
   ]
  },
  {
   "cell_type": "code",
   "execution_count": 159,
   "metadata": {},
   "outputs": [
    {
     "data": {
      "text/html": [
       "<div>\n",
       "<style scoped>\n",
       "    .dataframe tbody tr th:only-of-type {\n",
       "        vertical-align: middle;\n",
       "    }\n",
       "\n",
       "    .dataframe tbody tr th {\n",
       "        vertical-align: top;\n",
       "    }\n",
       "\n",
       "    .dataframe thead th {\n",
       "        text-align: right;\n",
       "    }\n",
       "</style>\n",
       "<table border=\"1\" class=\"dataframe\">\n",
       "  <thead>\n",
       "    <tr style=\"text-align: right;\">\n",
       "      <th></th>\n",
       "      <th>checking_status</th>\n",
       "      <th>duration</th>\n",
       "      <th>credit_history</th>\n",
       "      <th>purpose</th>\n",
       "      <th>credit_amount</th>\n",
       "      <th>savings_status</th>\n",
       "      <th>employment</th>\n",
       "      <th>installment_commitment</th>\n",
       "      <th>personal_status</th>\n",
       "      <th>other_parties</th>\n",
       "      <th>...</th>\n",
       "      <th>property_magnitude</th>\n",
       "      <th>age</th>\n",
       "      <th>other_payment_plans</th>\n",
       "      <th>housing</th>\n",
       "      <th>existing_credits</th>\n",
       "      <th>job</th>\n",
       "      <th>num_dependents</th>\n",
       "      <th>own_telephone</th>\n",
       "      <th>foreign_worker</th>\n",
       "      <th>class</th>\n",
       "    </tr>\n",
       "  </thead>\n",
       "  <tbody>\n",
       "    <tr>\n",
       "      <th>0</th>\n",
       "      <td>'&lt;0'</td>\n",
       "      <td>6</td>\n",
       "      <td>'critical/other existing credit'</td>\n",
       "      <td>radio/tv</td>\n",
       "      <td>1169</td>\n",
       "      <td>'no known savings'</td>\n",
       "      <td>'&gt;=7'</td>\n",
       "      <td>4</td>\n",
       "      <td>'male single'</td>\n",
       "      <td>none</td>\n",
       "      <td>...</td>\n",
       "      <td>'real estate'</td>\n",
       "      <td>67</td>\n",
       "      <td>none</td>\n",
       "      <td>own</td>\n",
       "      <td>2</td>\n",
       "      <td>skilled</td>\n",
       "      <td>1</td>\n",
       "      <td>yes</td>\n",
       "      <td>yes</td>\n",
       "      <td>good</td>\n",
       "    </tr>\n",
       "    <tr>\n",
       "      <th>1</th>\n",
       "      <td>'0&lt;=X&lt;200'</td>\n",
       "      <td>48</td>\n",
       "      <td>'existing paid'</td>\n",
       "      <td>radio/tv</td>\n",
       "      <td>5951</td>\n",
       "      <td>'&lt;100'</td>\n",
       "      <td>'1&lt;=X&lt;4'</td>\n",
       "      <td>2</td>\n",
       "      <td>'female div/dep/mar'</td>\n",
       "      <td>none</td>\n",
       "      <td>...</td>\n",
       "      <td>'real estate'</td>\n",
       "      <td>22</td>\n",
       "      <td>none</td>\n",
       "      <td>own</td>\n",
       "      <td>1</td>\n",
       "      <td>skilled</td>\n",
       "      <td>1</td>\n",
       "      <td>none</td>\n",
       "      <td>yes</td>\n",
       "      <td>bad</td>\n",
       "    </tr>\n",
       "  </tbody>\n",
       "</table>\n",
       "<p>2 rows × 21 columns</p>\n",
       "</div>"
      ],
      "text/plain": [
       "  checking_status  duration                    credit_history   purpose  \\\n",
       "0            '<0'         6  'critical/other existing credit'  radio/tv   \n",
       "1      '0<=X<200'        48                   'existing paid'  radio/tv   \n",
       "\n",
       "   credit_amount      savings_status employment  installment_commitment  \\\n",
       "0           1169  'no known savings'      '>=7'                       4   \n",
       "1           5951              '<100'   '1<=X<4'                       2   \n",
       "\n",
       "        personal_status other_parties  ...  property_magnitude age  \\\n",
       "0         'male single'          none  ...       'real estate'  67   \n",
       "1  'female div/dep/mar'          none  ...       'real estate'  22   \n",
       "\n",
       "   other_payment_plans housing existing_credits      job num_dependents  \\\n",
       "0                 none     own                2  skilled              1   \n",
       "1                 none     own                1  skilled              1   \n",
       "\n",
       "   own_telephone foreign_worker class  \n",
       "0            yes            yes  good  \n",
       "1           none            yes   bad  \n",
       "\n",
       "[2 rows x 21 columns]"
      ]
     },
     "execution_count": 159,
     "metadata": {},
     "output_type": "execute_result"
    }
   ],
   "source": [
    "dataset_31_credit_g.head(2)"
   ]
  },
  {
   "cell_type": "code",
   "execution_count": 162,
   "metadata": {},
   "outputs": [],
   "source": [
    "#Preprocessing\n",
    "#Perform any needed pre-processing on the chosen features including:\n",
    "'''\n",
    "Feature Selection\n",
    "Choose the features you think are relevant to our analysis! \n",
    "There are A LOT of features in this dataset \n",
    "but we have to make our models training time reasonable for you.\n",
    "You MUST include at least 4 numeric features and at least 3 nominal features. \n",
    "You can choose more if you prefer.\n",
    "'''\n",
    "'''\n",
    "Scaling;\n",
    "Encoding; and\n",
    "Dealing with Nan values.\n",
    "Note:\n",
    "Use only the preprocessing steps you think useful.\n",
    "'''\n",
    "#Since this article will only focus on encoding the categorical variables,\n",
    "#we are going to include only the object columns in our dataframe. \n",
    "#Pandas has a helpful select_dtypes function which we can use \n",
    "#to build a new dataframe containing only the object columns.\n",
    "y = dataset_31_credit_g.iloc[:,-1].values\n",
    "selected_X = dataset_31_credit_g.iloc[:, [0, 1, 2, 3, 4, 7, 10]].values"
   ]
  },
  {
   "cell_type": "code",
   "execution_count": 168,
   "metadata": {},
   "outputs": [],
   "source": [
    "#fit and transform the data\n",
    "from sklearn.preprocessing import LabelEncoder, OrdinalEncoder\n",
    "encoded_y = LabelEncoder().fit_transform(y)\n",
    "#for selected_X, only transform the column that is a categorical rather than the numeric value\n",
    "selected_X[:,[0,2,3]]= OrdinalEncoder().fit_transform(selected_X[:,[0,2,3]])"
   ]
  },
  {
   "cell_type": "code",
   "execution_count": 173,
   "metadata": {},
   "outputs": [],
   "source": [
    "'''\n",
    "Splitting the Data\n",
    "Split your data as follows:\n",
    "80% training set\n",
    "10% validation set\n",
    "10% test set\n",
    "'''\n",
    "from sklearn.model_selection import train_test_split\n",
    "# First to split to train, test and then split train again into validation and train.\n",
    "X_train, X_test, y_train, y_test = train_test_split(selected_X, encoded_y, test_size = 0.1, random_state = 0)\n",
    "X_train, X_val, y_train, y_val = train_test_split(selected_X, encoded_y, test_size = 0.1, random_state = 0)\n"
   ]
  },
  {
   "cell_type": "code",
   "execution_count": 181,
   "metadata": {},
   "outputs": [
    {
     "name": "stdout",
     "output_type": "stream",
     "text": [
      "0.7\n",
      "[[ 6 19]\n",
      " [11 64]]\n"
     ]
    }
   ],
   "source": [
    "'''\n",
    "Training Classifiers\n",
    "Use the KNN-Classifier model to train your data.\n",
    "Choose the best k for the K-Nearest Neighbor (KNN) algorithm by trying different values and validating performance on the validation set.\n",
    "Note: Choosing the best k is an example of hyper-parameter tuning.\n",
    "Classification Metrics\n",
    "Print the accuracy score of your final classifier.\n",
    "Print the confusion matrix.\n",
    "'''\n",
    "from sklearn.neighbors import KNeighborsClassifier\n",
    "K = 10\n",
    "model = KNeighborsClassifier(n_neighbors = K)\n",
    "model.fit(X_train, y_train)\n",
    "y_pred = model.predict(X_test)\n",
    "score = model.score(X_test, y_test)\n",
    "\n",
    "from sklearn.metrics import confusion_matrix\n",
    "conf = confusion_matrix(y_test, y_pred)\n",
    "\n",
    "print(score)\n",
    "print(conf)"
   ]
  },
  {
   "cell_type": "code",
   "execution_count": 192,
   "metadata": {},
   "outputs": [
    {
     "name": "stdout",
     "output_type": "stream",
     "text": [
      "0.74\n",
      "[[ 4 21]\n",
      " [ 5 70]]\n"
     ]
    }
   ],
   "source": [
    "#Combine the previous all codes together\n",
    "import pandas as pd\n",
    "import numpy as np\n",
    "dataset_31_credit_g = pd.read_csv(\"~/Desktop/dataset_31_credit-g.csv\")\n",
    "#Preprocessing\n",
    "#Perform any needed pre-processing on the chosen features including:\n",
    "y = dataset_31_credit_g.iloc[:,-1].values\n",
    "selected_X = dataset_31_credit_g.iloc[:, [0, 1, 2, 3, 4, 7, 10]].values\n",
    "#fit and transform the data\n",
    "from sklearn.preprocessing import LabelEncoder, OrdinalEncoder\n",
    "encoded_y = LabelEncoder().fit_transform(y)\n",
    "#for selected_X, only transform the column that is a categorical rather than the numeric value\n",
    "selected_X[:,[0,2,3]]= OrdinalEncoder().fit_transform(selected_X[:,[0,2,3]])\n",
    "'''\n",
    "Splitting the Data\n",
    "Split your data as follows:\n",
    "80% training set\n",
    "10% validation set\n",
    "10% test set\n",
    "'''\n",
    "from sklearn.model_selection import train_test_split\n",
    "# First to split to train, test and then split train again into validation and train.\n",
    "X_train, X_test, y_train, y_test = train_test_split(selected_X, encoded_y, test_size = 0.1, random_state = 0)\n",
    "X_train, X_val, y_train, y_val = train_test_split(X_train, y_train, test_size = 0.11, random_state = 0)\n",
    "'''\n",
    "Training Classifiers\n",
    "Use the KNN-Classifier model to train your data.\n",
    "Choose the best k for the K-Nearest Neighbor (KNN) algorithm by trying different values and validating performance on the validation set.\n",
    "Note: Choosing the best k is an example of hyper-parameter tuning.\n",
    "Classification Metrics\n",
    "Print the accuracy score of your final classifier.\n",
    "Print the confusion matrix.\n",
    "'''\n",
    "from sklearn.neighbors import KNeighborsClassifier\n",
    "K = 11\n",
    "model = KNeighborsClassifier(n_neighbors = K)\n",
    "model.fit(X_train, y_train)\n",
    "y_pred = model.predict(X_test)\n",
    "score = model.score(X_test, y_test)\n",
    "\n",
    "from sklearn.metrics import confusion_matrix\n",
    "conf = confusion_matrix(y_test, y_pred)\n",
    "\n",
    "print(score)\n",
    "print(conf)\n"
   ]
  },
  {
   "cell_type": "code",
   "execution_count": null,
   "metadata": {},
   "outputs": [],
   "source": []
  },
  {
   "cell_type": "code",
   "execution_count": null,
   "metadata": {},
   "outputs": [],
   "source": []
  },
  {
   "cell_type": "code",
   "execution_count": null,
   "metadata": {},
   "outputs": [],
   "source": []
  },
  {
   "cell_type": "code",
   "execution_count": null,
   "metadata": {},
   "outputs": [],
   "source": []
  }
 ],
 "metadata": {
  "kernelspec": {
   "display_name": "Python 3",
   "language": "python",
   "name": "python3"
  },
  "language_info": {
   "codemirror_mode": {
    "name": "ipython",
    "version": 3
   },
   "file_extension": ".py",
   "mimetype": "text/x-python",
   "name": "python",
   "nbconvert_exporter": "python",
   "pygments_lexer": "ipython3",
   "version": "3.8.3"
  }
 },
 "nbformat": 4,
 "nbformat_minor": 4
}
