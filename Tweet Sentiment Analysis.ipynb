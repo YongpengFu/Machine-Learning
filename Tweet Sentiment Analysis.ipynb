{
 "cells": [
  {
   "cell_type": "markdown",
   "metadata": {},
   "source": [
    "Download the Dataset\n",
    "Download the Dataset from the following link:\n",
    "https://data.world/crowdflower/sentiment-analysis-in-text"
   ]
  },
  {
   "cell_type": "markdown",
   "metadata": {},
   "source": [
    "Reading the Dataset\n",
    "Read and Prepare your dataset.\n",
    "Calculate:\n",
    "Vocabulary size; and\n",
    "Maximum sequence length.\n",
    "Divide your dataset into training and test set:\n",
    "70% training set; and\n",
    "30% Testing set."
   ]
  },
  {
   "cell_type": "code",
   "execution_count": 1,
   "metadata": {},
   "outputs": [
    {
     "data": {
      "text/html": [
       "<div>\n",
       "<style scoped>\n",
       "    .dataframe tbody tr th:only-of-type {\n",
       "        vertical-align: middle;\n",
       "    }\n",
       "\n",
       "    .dataframe tbody tr th {\n",
       "        vertical-align: top;\n",
       "    }\n",
       "\n",
       "    .dataframe thead th {\n",
       "        text-align: right;\n",
       "    }\n",
       "</style>\n",
       "<table border=\"1\" class=\"dataframe\">\n",
       "  <thead>\n",
       "    <tr style=\"text-align: right;\">\n",
       "      <th></th>\n",
       "      <th>tweet_id</th>\n",
       "      <th>sentiment</th>\n",
       "      <th>author</th>\n",
       "      <th>content</th>\n",
       "    </tr>\n",
       "  </thead>\n",
       "  <tbody>\n",
       "    <tr>\n",
       "      <th>0</th>\n",
       "      <td>1956967341</td>\n",
       "      <td>empty</td>\n",
       "      <td>xoshayzers</td>\n",
       "      <td>@tiffanylue i know  i was listenin to bad habi...</td>\n",
       "    </tr>\n",
       "    <tr>\n",
       "      <th>1</th>\n",
       "      <td>1956967666</td>\n",
       "      <td>sadness</td>\n",
       "      <td>wannamama</td>\n",
       "      <td>Layin n bed with a headache  ughhhh...waitin o...</td>\n",
       "    </tr>\n",
       "  </tbody>\n",
       "</table>\n",
       "</div>"
      ],
      "text/plain": [
       "     tweet_id sentiment      author  \\\n",
       "0  1956967341     empty  xoshayzers   \n",
       "1  1956967666   sadness   wannamama   \n",
       "\n",
       "                                             content  \n",
       "0  @tiffanylue i know  i was listenin to bad habi...  \n",
       "1  Layin n bed with a headache  ughhhh...waitin o...  "
      ]
     },
     "execution_count": 1,
     "metadata": {},
     "output_type": "execute_result"
    }
   ],
   "source": [
    "import pandas as pd\n",
    "import numpy as np\n",
    "text_emotion = pd.read_csv('/Users/yongpengfu/Desktop/text_emotion.csv')\n",
    "text_emotion.head(2)"
   ]
  },
  {
   "cell_type": "code",
   "execution_count": 2,
   "metadata": {},
   "outputs": [
    {
     "name": "stdout",
     "output_type": "stream",
     "text": [
      "48998\n"
     ]
    }
   ],
   "source": [
    "#Vocabulary size; and\n",
    "#Maximum sequence length.\n",
    "text_emotion.iloc[:, 3] =  text_emotion.iloc[:, 3].str.lower()\n",
    "from tensorflow.keras.preprocessing.text import text_to_word_sequence, Tokenizer\n",
    "words = text_to_word_sequence(text_emotion.content.str.cat(sep=' '))\n",
    "#tokenize input text\n",
    "tokenizer = Tokenizer()\n",
    "tokenizer.fit_on_texts(words)\n",
    "tokens = tokenizer.word_index\n",
    "#get the vocabulary size\n",
    "vocabulary_size = len(tokens) + 1\n",
    "print(vocabulary_size)\n",
    "#build sequences\n",
    "sequences = tokenizer.texts_to_sequences(text_emotion.content)"
   ]
  },
  {
   "cell_type": "code",
   "execution_count": 3,
   "metadata": {},
   "outputs": [
    {
     "name": "stdout",
     "output_type": "stream",
     "text": [
      "(40000,)\n",
      "(40000, 48998)\n"
     ]
    }
   ],
   "source": [
    "#encoding the output y of sentiment\n",
    "from sklearn.preprocessing import LabelEncoder\n",
    "y = LabelEncoder().fit_transform(text_emotion.sentiment)\n",
    "print(y.shape)\n",
    "from tensorflow.keras.utils import to_categorical\n",
    "y = to_categorical(y, num_classes=vocabulary_size)\n",
    "print(y.shape)"
   ]
  },
  {
   "cell_type": "code",
   "execution_count": 5,
   "metadata": {},
   "outputs": [
    {
     "data": {
      "text/plain": [
       "((28000, 37), (12000, 37), (28000, 48998), (12000, 48998))"
      ]
     },
     "execution_count": 5,
     "metadata": {},
     "output_type": "execute_result"
    }
   ],
   "source": [
    "#Maximum sequence length.\n",
    "sequence_length = max(len(sequence) for sequence in sequences)\n",
    "#pad at the beginning of each sequence\n",
    "from tensorflow.keras.preprocessing.sequence import pad_sequences\n",
    "sequences = pad_sequences(sequences, maxlen = sequence_length, padding = 'pre')\n",
    "#Divide your dataset into training and test set:\n",
    "#70% training set; and\n",
    "#30% Testing set.\n",
    "from sklearn.model_selection import train_test_split\n",
    "x_train, x_test, y_train, y_test = train_test_split(sequences, y, test_size = 0.3, random_state = 0)\n",
    "x_train.shape, x_test.shape, y_train.shape, y_test.shape"
   ]
  },
  {
   "cell_type": "markdown",
   "metadata": {},
   "source": [
    "Define your Recurrent Neural Network\n",
    "Define a RNN with the following layers:\n",
    "The input layer is an embedding layer with the following parameters:\n",
    "The input dimension is the vocabulary size;\n",
    "The output dimension is 10;\n",
    "The input length is the maximum sequence length;\n",
    "An LSTM layer with 128 units; and\n",
    "An LSTM layer with 64 units.\n",
    "A fully-connected layer with:\n",
    "100 units;\n",
    "Activation function: relu; and\n",
    "A Dropout layer with 0.5 rate.\n",
    "The output layer is a fully-connected layer with:\n",
    "5 units; and\n",
    "Activation function: softmax."
   ]
  },
  {
   "cell_type": "code",
   "execution_count": 12,
   "metadata": {},
   "outputs": [],
   "source": [
    "from tensorflow.keras.models import Sequential\n",
    "model = Sequential()\n",
    "from tensorflow.keras.layers import Embedding\n",
    "model.add(Embedding(vocabulary_size, 10, input_length = sequence_length ))\n",
    "from tensorflow.keras.layers import LSTM\n",
    "model.add(LSTM(128))\n",
    "from tensorflow.keras.layers import Dense\n",
    "model.add(Dense(units = 100, activation = 'relu'))\n",
    "from tensorflow.keras.layers import Dropout\n",
    "model.add(Dropout(0.5))\n",
    "model.add(Dense(units = vocabulary_size, activation = 'softmax'))"
   ]
  },
  {
   "cell_type": "markdown",
   "metadata": {},
   "source": [
    "Choosing Hyper-Parameters\n",
    "Build the network using the following parameters:\n",
    "Optimizer: adam;\n",
    "Loss Function: categorical_crossentropy;\n",
    "Metrics: accuracy;\n",
    "Batch size: 256; and\n",
    "Epochs: 10."
   ]
  },
  {
   "cell_type": "code",
   "execution_count": 13,
   "metadata": {},
   "outputs": [],
   "source": [
    "model.compile(optimizer='adam', loss='categorical_crossentropy', \n",
    "              metrics=['accuracy'])"
   ]
  },
  {
   "cell_type": "code",
   "execution_count": 14,
   "metadata": {},
   "outputs": [
    {
     "name": "stdout",
     "output_type": "stream",
     "text": [
      "Epoch 1/10\n",
      "110/110 [==============================] - 32s 290ms/step - loss: 3.8789 - accuracy: 0.1980\n",
      "Epoch 2/10\n",
      "110/110 [==============================] - 34s 306ms/step - loss: 2.1722 - accuracy: 0.2102\n",
      "Epoch 3/10\n",
      "110/110 [==============================] - 34s 312ms/step - loss: 2.1690 - accuracy: 0.2127\n",
      "Epoch 4/10\n",
      "110/110 [==============================] - 34s 313ms/step - loss: 2.1680 - accuracy: 0.2105\n",
      "Epoch 5/10\n",
      "110/110 [==============================] - 36s 324ms/step - loss: 2.1678 - accuracy: 0.2137\n",
      "Epoch 6/10\n",
      "110/110 [==============================] - 34s 306ms/step - loss: 2.1639 - accuracy: 0.2124\n",
      "Epoch 7/10\n",
      "110/110 [==============================] - 35s 319ms/step - loss: 2.1669 - accuracy: 0.2118\n",
      "Epoch 8/10\n",
      "110/110 [==============================] - 31s 280ms/step - loss: 2.1642 - accuracy: 0.2170\n",
      "Epoch 9/10\n",
      "110/110 [==============================] - 30s 276ms/step - loss: 2.1644 - accuracy: 0.2148\n",
      "Epoch 10/10\n",
      "110/110 [==============================] - 32s 289ms/step - loss: 2.1524 - accuracy: 0.2141\n"
     ]
    },
    {
     "data": {
      "text/plain": [
       "<tensorflow.python.keras.callbacks.History at 0x7fe502130340>"
      ]
     },
     "execution_count": 14,
     "metadata": {},
     "output_type": "execute_result"
    }
   ],
   "source": [
    "model.fit(x_train, y_train, batch_size = 256, epochs = 10)"
   ]
  },
  {
   "cell_type": "code",
   "execution_count": 15,
   "metadata": {},
   "outputs": [
    {
     "name": "stdout",
     "output_type": "stream",
     "text": [
      "375/375 [==============================] - 9s 24ms/step - loss: 2.1392 - accuracy: 0.2103\n"
     ]
    }
   ],
   "source": [
    "loss, accuracy = model.evaluate(x_test, y_test)"
   ]
  },
  {
   "cell_type": "code",
   "execution_count": null,
   "metadata": {},
   "outputs": [],
   "source": []
  }
 ],
 "metadata": {
  "kernelspec": {
   "display_name": "Python 3",
   "language": "python",
   "name": "python3"
  },
  "language_info": {
   "codemirror_mode": {
    "name": "ipython",
    "version": 3
   },
   "file_extension": ".py",
   "mimetype": "text/x-python",
   "name": "python",
   "nbconvert_exporter": "python",
   "pygments_lexer": "ipython3",
   "version": "3.8.3"
  }
 },
 "nbformat": 4,
 "nbformat_minor": 4
}
