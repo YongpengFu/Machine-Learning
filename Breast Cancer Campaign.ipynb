{
 "cells": [
  {
   "cell_type": "markdown",
   "metadata": {},
   "source": [
    "Reading the Dataset\n",
    "Read the two previously read and preprocessed datasets into Pandas Data frames.\n",
    "Read the two previously read and preprocessed datasets into Pandas Data frames.\n",
    "Load the previously pre-processed dataset saved in the csv file “data_refined.csv” into a Pandas Data Frame.\n",
    "And\n",
    "Also load the following:\n",
    "https://www.kaggle.com/mirichoi0218/insurance/download"
   ]
  },
  {
   "cell_type": "code",
   "execution_count": 6,
   "metadata": {},
   "outputs": [],
   "source": [
    "import pandas as pd\n",
    "import numpy as np\n",
    "import sklearn as sk"
   ]
  },
  {
   "cell_type": "code",
   "execution_count": 7,
   "metadata": {},
   "outputs": [],
   "source": [
    "insurance = pd.read_csv('~/Desktop/insurance.csv')"
   ]
  },
  {
   "cell_type": "code",
   "execution_count": 8,
   "metadata": {},
   "outputs": [
    {
     "data": {
      "text/html": [
       "<div>\n",
       "<style scoped>\n",
       "    .dataframe tbody tr th:only-of-type {\n",
       "        vertical-align: middle;\n",
       "    }\n",
       "\n",
       "    .dataframe tbody tr th {\n",
       "        vertical-align: top;\n",
       "    }\n",
       "\n",
       "    .dataframe thead th {\n",
       "        text-align: right;\n",
       "    }\n",
       "</style>\n",
       "<table border=\"1\" class=\"dataframe\">\n",
       "  <thead>\n",
       "    <tr style=\"text-align: right;\">\n",
       "      <th></th>\n",
       "      <th>age</th>\n",
       "      <th>sex</th>\n",
       "      <th>bmi</th>\n",
       "      <th>children</th>\n",
       "      <th>smoker</th>\n",
       "      <th>region</th>\n",
       "      <th>charges</th>\n",
       "    </tr>\n",
       "  </thead>\n",
       "  <tbody>\n",
       "    <tr>\n",
       "      <th>0</th>\n",
       "      <td>19</td>\n",
       "      <td>female</td>\n",
       "      <td>27.90</td>\n",
       "      <td>0</td>\n",
       "      <td>yes</td>\n",
       "      <td>southwest</td>\n",
       "      <td>16884.9240</td>\n",
       "    </tr>\n",
       "    <tr>\n",
       "      <th>1</th>\n",
       "      <td>18</td>\n",
       "      <td>male</td>\n",
       "      <td>33.77</td>\n",
       "      <td>1</td>\n",
       "      <td>no</td>\n",
       "      <td>southeast</td>\n",
       "      <td>1725.5523</td>\n",
       "    </tr>\n",
       "    <tr>\n",
       "      <th>2</th>\n",
       "      <td>28</td>\n",
       "      <td>male</td>\n",
       "      <td>33.00</td>\n",
       "      <td>3</td>\n",
       "      <td>no</td>\n",
       "      <td>southeast</td>\n",
       "      <td>4449.4620</td>\n",
       "    </tr>\n",
       "  </tbody>\n",
       "</table>\n",
       "</div>"
      ],
      "text/plain": [
       "   age     sex    bmi  children smoker     region     charges\n",
       "0   19  female  27.90         0    yes  southwest  16884.9240\n",
       "1   18    male  33.77         1     no  southeast   1725.5523\n",
       "2   28    male  33.00         3     no  southeast   4449.4620"
      ]
     },
     "execution_count": 8,
     "metadata": {},
     "output_type": "execute_result"
    }
   ],
   "source": [
    "insurance.head(3)"
   ]
  },
  {
   "cell_type": "markdown",
   "metadata": {},
   "source": [
    "Preprocessing\n",
    "Perform any needed pre-processing on the chosen features including:\n",
    "Scaling;\n",
    "Encoding;\n",
    "Dealing with Nan values; and\n",
    "Normalization."
   ]
  },
  {
   "cell_type": "code",
   "execution_count": 9,
   "metadata": {},
   "outputs": [],
   "source": [
    "from sklearn.preprocessing import OrdinalEncoder, StandardScaler\n",
    "y = insurance.charges.values\n",
    "selected_X=insurance.drop(['charges'], axis = 1).values\n",
    "encoded_X =OrdinalEncoder().fit_transform(selected_X)\n",
    "encoded_X = StandardScaler().fit_transform(encoded_X)"
   ]
  },
  {
   "cell_type": "markdown",
   "metadata": {},
   "source": [
    "Clustering\n",
    "Use k-means and Mean-shift to fit your data.\n",
    "Get optimal k for k-means using the elbow curve method.\n",
    "Try different bandwidth for the mean-shift clustering."
   ]
  },
  {
   "cell_type": "code",
   "execution_count": 10,
   "metadata": {},
   "outputs": [
    {
     "data": {
      "text/plain": [
       "Text(0.5, 1.0, 'The Elbow Method showing the optimal k')"
      ]
     },
     "execution_count": 10,
     "metadata": {},
     "output_type": "execute_result"
    },
    {
     "data": {
      "image/png": "[encoded data removed]",
      "text/plain": [
       "<Figure size 1152x576 with 1 Axes>"
      ]
     },
     "metadata": {
      "needs_background": "light"
     },
     "output_type": "display_data"
    }
   ],
   "source": [
    "from sklearn.cluster import KMeans\n",
    "import matplotlib.pyplot as plt\n",
    "%matplotlib inline \n",
    "#We can easily run K-Means for a range of clusters using a for loop and \n",
    "#collecting the distortions into a list.\n",
    "distortions = []\n",
    "K = range(1,10)\n",
    "for k in K:\n",
    "    kmeanModel = KMeans(n_clusters=k)\n",
    "    kmeanModel.fit(encoded_X)\n",
    "    distortions.append(kmeanModel.inertia_)\n",
    "#Plotting the distortions of K-Means\n",
    "plt.figure(figsize=(16,8))\n",
    "plt.plot(K, distortions, 'bx-') #bx- means blue x marker and solid line\n",
    "plt.xlabel('k')\n",
    "plt.ylabel('Distortion')\n",
    "plt.title('The Elbow Method showing the optimal k')"
   ]
  },
  {
   "cell_type": "code",
   "execution_count": 11,
   "metadata": {},
   "outputs": [
    {
     "name": "stdout",
     "output_type": "stream",
     "text": [
      "5617.133137855171\n"
     ]
    }
   ],
   "source": [
    "#We can observe that the “elbow” is the number 3 which is optimal for this case. \n",
    "#Now we can run a K-Means using as n_clusters the number 3.\n",
    "kmeanModel = KMeans(n_clusters=3)\n",
    "kmeanModel.fit(encoded_X)\n",
    "clusters = kmeanModel.predict(encoded_X)\n",
    "print(kmeanModel.inertia_)"
   ]
  },
  {
   "cell_type": "code",
   "execution_count": 12,
   "metadata": {},
   "outputs": [
    {
     "name": "stdout",
     "output_type": "stream",
     "text": [
      "[[ 0.07540208 -1.0105187  -0.12236038 -0.19845659 -0.5074631  -0.00550461]\n",
      " [-0.12141906  0.98959079  0.11932502 -0.18788195 -0.5074631   0.00615342]\n",
      " [ 0.10418068  0.98959079  0.37695439  0.02717066  1.97058663  0.32291029]\n",
      " [-0.0311715  -1.0105187  -0.25681939 -0.50007386  1.97058663 -0.06296332]\n",
      " [-0.01474046 -1.0105187  -1.84095024  3.24061871  1.97058663  1.34390459]]\n"
     ]
    }
   ],
   "source": [
    "#Try different bandwidth for the mean-shift clustering.\n",
    "from sklearn.cluster import MeanShift\n",
    "bandwidth = 2\n",
    "mean_shift = MeanShift(bandwidth = bandwidth)\n",
    "mean_shift.fit(encoded_X)\n",
    "clusters = mean_shift.predict(encoded_X)\n",
    "print(mean_shift.cluster_centers_)"
   ]
  },
  {
   "cell_type": "code",
   "execution_count": null,
   "metadata": {},
   "outputs": [],
   "source": []
  }
 ],
 "metadata": {
  "kernelspec": {
   "display_name": "Python 3",
   "language": "python",
   "name": "python3"
  },
  "language_info": {
   "codemirror_mode": {
    "name": "ipython",
    "version": 3
   },
   "file_extension": ".py",
   "mimetype": "text/x-python",
   "name": "python",
   "nbconvert_exporter": "python",
   "pygments_lexer": "ipython3",
   "version": "3.8.3"
  }
 },
 "nbformat": 4,
 "nbformat_minor": 4
}
